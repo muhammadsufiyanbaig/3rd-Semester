{
  "nbformat": 4,
  "nbformat_minor": 0,
  "metadata": {
    "colab": {
      "provenance": [],
      "toc_visible": true
    },
    "kernelspec": {
      "name": "python3",
      "display_name": "Python 3"
    },
    "language_info": {
      "name": "python"
    }
  },
  "cells": [
    {
      "cell_type": "markdown",
      "source": [
        "# ***Python Basics***\n",
        "\n"
      ],
      "metadata": {
        "id": "eEnMm6yjcYZx"
      }
    },
    {
      "cell_type": "markdown",
      "source": [
        "### **Print Statement**\n"
      ],
      "metadata": {
        "id": "lASMlVd7cwJO"
      }
    },
    {
      "cell_type": "code",
      "source": [
        "print(\"Hello, World!\")"
      ],
      "metadata": {
        "colab": {
          "base_uri": "https://localhost:8080/"
        },
        "id": "0KxzfUiKctae",
        "outputId": "c76e36fe-e446-4587-9c91-7ae6e9100643"
      },
      "execution_count": 1,
      "outputs": [
        {
          "output_type": "stream",
          "name": "stdout",
          "text": [
            "Hello, World!\n"
          ]
        }
      ]
    },
    {
      "cell_type": "markdown",
      "source": [
        "### **Input Function**"
      ],
      "metadata": {
        "id": "LmmoxNfwc9gv"
      }
    },
    {
      "cell_type": "code",
      "source": [
        "name = input(\"Enter your name: \")\n",
        "print(\"Hello, \" + name + \"!\")"
      ],
      "metadata": {
        "colab": {
          "base_uri": "https://localhost:8080/"
        },
        "id": "BxuvtsLbdKu9",
        "outputId": "1c12c81b-41fd-4138-b6a8-afb5dd5b041e"
      },
      "execution_count": 2,
      "outputs": [
        {
          "output_type": "stream",
          "name": "stdout",
          "text": [
            "Enter your name: Sufiyan\n",
            "Hello, Sufiyan!\n"
          ]
        }
      ]
    },
    {
      "cell_type": "markdown",
      "source": [
        "### **Data Types & type() Function**\n",
        "\n",
        "***Python supports multiple data types:***"
      ],
      "metadata": {
        "id": "Ad7byuyDdOJd"
      }
    },
    {
      "cell_type": "code",
      "source": [
        "integer_var = 10   # Integer\n",
        "float_var = 10.5   # Float\n",
        "string_var = \"Python\" # String\n",
        "boolean_var = True # Boolean\n",
        "list_var = [1, 2, 3, 4] # List\n",
        "tuple_var = (1, 2, 3, 4) # Tuple\n",
        "set_var = {1, 2, 3, 4} # Set\n",
        "dict_var = {\"name\": \"John\", \"age\": 25} # Dictionary"
      ],
      "metadata": {
        "id": "COVICTZzdl-d"
      },
      "execution_count": 3,
      "outputs": []
    },
    {
      "cell_type": "markdown",
      "source": [
        "### **for Loop**"
      ],
      "metadata": {
        "id": "_J5d8qhKhnWd"
      }
    },
    {
      "cell_type": "code",
      "source": [
        "for i in range(5):  # Iterates from 0 to 4\n",
        "    print(i)"
      ],
      "metadata": {
        "colab": {
          "base_uri": "https://localhost:8080/"
        },
        "id": "kKJOlwNlhq5_",
        "outputId": "d7ff332e-6c74-43d9-afcc-c600b3980a03"
      },
      "execution_count": 23,
      "outputs": [
        {
          "output_type": "stream",
          "name": "stdout",
          "text": [
            "0\n",
            "1\n",
            "2\n",
            "3\n",
            "4\n"
          ]
        }
      ]
    },
    {
      "cell_type": "markdown",
      "source": [
        "### **while Loop**"
      ],
      "metadata": {
        "id": "FPXUM9_MhtzM"
      }
    },
    {
      "cell_type": "code",
      "source": [
        "x = 0\n",
        "while x < 5:\n",
        "    print(x)\n",
        "    x += 1"
      ],
      "metadata": {
        "colab": {
          "base_uri": "https://localhost:8080/"
        },
        "id": "Yfv4a8oChwvF",
        "outputId": "7350c4e1-1a02-4ff0-8366-fb31eba14b74"
      },
      "execution_count": 24,
      "outputs": [
        {
          "output_type": "stream",
          "name": "stdout",
          "text": [
            "0\n",
            "1\n",
            "2\n",
            "3\n",
            "4\n"
          ]
        }
      ]
    },
    {
      "cell_type": "markdown",
      "source": [
        "### **Nested Loops**"
      ],
      "metadata": {
        "id": "7KSRS-xRh0DM"
      }
    },
    {
      "cell_type": "code",
      "source": [
        "for i in range(3):\n",
        "    for j in range(2):\n",
        "        print(f\"i={i}, j={j}\")"
      ],
      "metadata": {
        "colab": {
          "base_uri": "https://localhost:8080/"
        },
        "id": "pedyV_Q6h9Ak",
        "outputId": "01114ce6-526b-40ea-95b7-c7a6211ad3a9"
      },
      "execution_count": 25,
      "outputs": [
        {
          "output_type": "stream",
          "name": "stdout",
          "text": [
            "i=0, j=0\n",
            "i=0, j=1\n",
            "i=1, j=0\n",
            "i=1, j=1\n",
            "i=2, j=0\n",
            "i=2, j=1\n"
          ]
        }
      ]
    },
    {
      "cell_type": "markdown",
      "source": [
        "### **Loop Control Statements**\n",
        "\n",
        "> These modify loop behavior:\n",
        "\n",
        "* `break:` Exits the loop entirely.\n",
        "* `continue:` Skips the current iteration.\n",
        "* `pass:` Does nothing (used as a placeholder)."
      ],
      "metadata": {
        "id": "AIXc5btaiBCs"
      }
    },
    {
      "cell_type": "code",
      "source": [
        "for i in range(5):\n",
        "    if i == 3:\n",
        "        break  # Stops the loop when i is 3\n",
        "    print(i)"
      ],
      "metadata": {
        "colab": {
          "base_uri": "https://localhost:8080/"
        },
        "id": "ZuGoWbetiFDE",
        "outputId": "fa8cf167-06e3-487a-e6b0-93c28ce251ed"
      },
      "execution_count": 26,
      "outputs": [
        {
          "output_type": "stream",
          "name": "stdout",
          "text": [
            "0\n",
            "1\n",
            "2\n"
          ]
        }
      ]
    },
    {
      "cell_type": "markdown",
      "source": [
        "### **else with Loops**\n",
        "Python allows an `else` block with `for` and `while` loops, which runs when the loop finishes normally (i.e., not exited via `break`)."
      ],
      "metadata": {
        "id": "e5pqejiHiuJD"
      }
    },
    {
      "cell_type": "code",
      "source": [
        "for i in range(3):\n",
        "    print(i)\n",
        "else:\n",
        "    print(\"Loop completed\")"
      ],
      "metadata": {
        "colab": {
          "base_uri": "https://localhost:8080/"
        },
        "id": "mJTODoRljAuD",
        "outputId": "8c4783f9-c30c-4559-d6d7-20d9f6892d4c"
      },
      "execution_count": 27,
      "outputs": [
        {
          "output_type": "stream",
          "name": "stdout",
          "text": [
            "0\n",
            "1\n",
            "2\n",
            "Loop completed\n"
          ]
        }
      ]
    },
    {
      "cell_type": "markdown",
      "source": [
        "### **Difference Between List, Tuple, and Set**\n",
        "\n",
        "**List**: Ordered, mutable, allows duplicate elements"
      ],
      "metadata": {
        "id": "K_4rh3-CdsFM"
      }
    },
    {
      "cell_type": "code",
      "source": [
        "list_example = [1, 2, 3, 4, 1]\n",
        "print(\"List:\", list_example)"
      ],
      "metadata": {
        "colab": {
          "base_uri": "https://localhost:8080/"
        },
        "id": "OK1D6g5dd1FM",
        "outputId": "431429ca-cab9-4c89-8711-6d6d85b73bdc"
      },
      "execution_count": 4,
      "outputs": [
        {
          "output_type": "stream",
          "name": "stdout",
          "text": [
            "List: [1, 2, 3, 4, 1]\n"
          ]
        }
      ]
    },
    {
      "cell_type": "markdown",
      "source": [
        "**Tuple**: Ordered, immutable, allows duplicate elements"
      ],
      "metadata": {
        "id": "S3MlJjjUeMm8"
      }
    },
    {
      "cell_type": "code",
      "source": [
        "tuple_example = (1, 2, 3, 4, 1)\n",
        "print(\"Tuple:\", tuple_example)"
      ],
      "metadata": {
        "colab": {
          "base_uri": "https://localhost:8080/"
        },
        "id": "Ecd4gtNNeRLr",
        "outputId": "756b3f6a-2595-4aca-9063-95885187197e"
      },
      "execution_count": 5,
      "outputs": [
        {
          "output_type": "stream",
          "name": "stdout",
          "text": [
            "Tuple: (1, 2, 3, 4, 1)\n"
          ]
        }
      ]
    },
    {
      "cell_type": "markdown",
      "source": [
        "**Set**: Unordered, mutable, does not allow duplicate elements"
      ],
      "metadata": {
        "id": "lrZoWuBceY3T"
      }
    },
    {
      "cell_type": "code",
      "source": [
        "set_example = {1, 2, 3, 4, 1}\n",
        "print(\"Set:\", set_example)  # Duplicate 1 is removed"
      ],
      "metadata": {
        "colab": {
          "base_uri": "https://localhost:8080/"
        },
        "id": "VRc-zjVpeg1C",
        "outputId": "9b927631-ae0c-4803-8045-ce9499542b73"
      },
      "execution_count": 6,
      "outputs": [
        {
          "output_type": "stream",
          "name": "stdout",
          "text": [
            "Set: {1, 2, 3, 4}\n"
          ]
        }
      ]
    },
    {
      "cell_type": "markdown",
      "source": [
        "## **List Method**"
      ],
      "metadata": {
        "id": "sTUL0QCAlWRF"
      }
    },
    {
      "cell_type": "markdown",
      "source": [
        "### **`append()` – Add an element to the end**"
      ],
      "metadata": {
        "id": "ox4XL_R1lbr1"
      }
    },
    {
      "cell_type": "code",
      "source": [
        "arr = [1, 2, 3]\n",
        "arr.append(4)\n",
        "print(arr)"
      ],
      "metadata": {
        "colab": {
          "base_uri": "https://localhost:8080/"
        },
        "id": "5MCe4sHQlUeH",
        "outputId": "64444696-7aa8-4a64-a3ad-c397331c0926"
      },
      "execution_count": 29,
      "outputs": [
        {
          "output_type": "stream",
          "name": "stdout",
          "text": [
            "[1, 2, 3, 4]\n"
          ]
        }
      ]
    },
    {
      "cell_type": "markdown",
      "source": [
        "### **`extend()` – Add multiple elements**"
      ],
      "metadata": {
        "id": "Py1xwptLl0QE"
      }
    },
    {
      "cell_type": "code",
      "source": [
        "arr = [1, 2, 3]\n",
        "arr.extend([4, 5, 6])\n",
        "print(arr)"
      ],
      "metadata": {
        "colab": {
          "base_uri": "https://localhost:8080/"
        },
        "id": "4jCwzsxsl5Yc",
        "outputId": "bb7aded1-a0cb-4edb-e475-ac47b9d2b6fd"
      },
      "execution_count": 30,
      "outputs": [
        {
          "output_type": "stream",
          "name": "stdout",
          "text": [
            "[1, 2, 3, 4, 5, 6]\n"
          ]
        }
      ]
    },
    {
      "cell_type": "markdown",
      "source": [
        "### **`insert()` – Insert at a specific**"
      ],
      "metadata": {
        "id": "tsLiP-4HmFXN"
      }
    },
    {
      "cell_type": "code",
      "source": [
        "arr = [1, 2, 4]\n",
        "arr.insert(2, 3)  # Insert 3 at index 2\n",
        "print(arr)"
      ],
      "metadata": {
        "colab": {
          "base_uri": "https://localhost:8080/"
        },
        "id": "uH0UmmSSmF1d",
        "outputId": "d8828475-aa7b-427e-9ec3-465c29ab4372"
      },
      "execution_count": 31,
      "outputs": [
        {
          "output_type": "stream",
          "name": "stdout",
          "text": [
            "[1, 2, 3, 4]\n"
          ]
        }
      ]
    },
    {
      "cell_type": "markdown",
      "source": [
        "### **`pop()` – Remove an element (default last)**"
      ],
      "metadata": {
        "id": "3nE4LWxhmZE8"
      }
    },
    {
      "cell_type": "code",
      "source": [
        "arr = [1, 2, 3, 4]\n",
        "arr.pop(2)  # Removes element at index 2\n",
        "print(arr)"
      ],
      "metadata": {
        "colab": {
          "base_uri": "https://localhost:8080/"
        },
        "id": "ON25eHvYme9L",
        "outputId": "05d696a9-915a-451e-8820-e35c2d192d77"
      },
      "execution_count": 32,
      "outputs": [
        {
          "output_type": "stream",
          "name": "stdout",
          "text": [
            "[1, 2, 4]\n"
          ]
        }
      ]
    },
    {
      "cell_type": "markdown",
      "source": [
        "### **`remove()` – Remove the first occurrence of an element**"
      ],
      "metadata": {
        "id": "nDFUbbGfmjCz"
      }
    },
    {
      "cell_type": "code",
      "source": [
        "arr = [1, 2, 3, 2]\n",
        "arr.remove(2)\n",
        "print(arr)"
      ],
      "metadata": {
        "colab": {
          "base_uri": "https://localhost:8080/"
        },
        "id": "8pQorCDAmp7U",
        "outputId": "f9f68c4e-e437-4d35-96d5-9e240f83048b"
      },
      "execution_count": 33,
      "outputs": [
        {
          "output_type": "stream",
          "name": "stdout",
          "text": [
            "[1, 3, 2]\n"
          ]
        }
      ]
    },
    {
      "cell_type": "markdown",
      "source": [
        "### **`index()` – Get index of an element**"
      ],
      "metadata": {
        "id": "txRcaVnbmwnb"
      }
    },
    {
      "cell_type": "code",
      "source": [
        "arr = [10, 20, 30, 40]\n",
        "print(arr.index(30))"
      ],
      "metadata": {
        "colab": {
          "base_uri": "https://localhost:8080/"
        },
        "id": "eYD8zcvOnBTq",
        "outputId": "8eff1d0e-9089-4b16-e339-3281c608dd86"
      },
      "execution_count": 34,
      "outputs": [
        {
          "output_type": "stream",
          "name": "stdout",
          "text": [
            "2\n"
          ]
        }
      ]
    },
    {
      "cell_type": "markdown",
      "source": [
        "### **`count()` – Count occurrences of an element**"
      ],
      "metadata": {
        "id": "0FblQUBsnG3r"
      }
    },
    {
      "cell_type": "code",
      "source": [
        "arr = [1, 2, 3, 2, 2, 4]\n",
        "print(arr.count(2))"
      ],
      "metadata": {
        "colab": {
          "base_uri": "https://localhost:8080/"
        },
        "id": "LoatBkGlnQiC",
        "outputId": "4ea06dcc-e4f8-4cf7-e3a8-096194c3069a"
      },
      "execution_count": 36,
      "outputs": [
        {
          "output_type": "stream",
          "name": "stdout",
          "text": [
            "3\n"
          ]
        }
      ]
    },
    {
      "cell_type": "markdown",
      "source": [
        "### **`reverse()` – Reverse the array**"
      ],
      "metadata": {
        "id": "j7Av186pnaux"
      }
    },
    {
      "cell_type": "code",
      "source": [
        "arr = [1, 2, 3, 4]\n",
        "arr.reverse()\n",
        "print(arr)"
      ],
      "metadata": {
        "colab": {
          "base_uri": "https://localhost:8080/"
        },
        "id": "WX3BW52mnfw5",
        "outputId": "aa505ed6-fc36-4261-c840-a81b9d562cb3"
      },
      "execution_count": 37,
      "outputs": [
        {
          "output_type": "stream",
          "name": "stdout",
          "text": [
            "[4, 3, 2, 1]\n"
          ]
        }
      ]
    },
    {
      "cell_type": "markdown",
      "source": [
        "### **`sort()` – Sort the array**"
      ],
      "metadata": {
        "id": "hCdEQT3inoX5"
      }
    },
    {
      "cell_type": "code",
      "source": [
        "arr = [3, 1, 4, 2]\n",
        "arr.sort()\n",
        "print(arr)"
      ],
      "metadata": {
        "colab": {
          "base_uri": "https://localhost:8080/"
        },
        "id": "Me6sVp4Lnoxx",
        "outputId": "17b1af62-96b7-4782-deeb-a9b8c09776f5"
      },
      "execution_count": 38,
      "outputs": [
        {
          "output_type": "stream",
          "name": "stdout",
          "text": [
            "[1, 2, 3, 4]\n"
          ]
        }
      ]
    },
    {
      "cell_type": "markdown",
      "source": [
        "### **`copy()` – Copy an array**"
      ],
      "metadata": {
        "id": "zuBBSDswoFWa"
      }
    },
    {
      "cell_type": "code",
      "source": [
        "arr = [1, 2, 3]\n",
        "arr_copy = arr.copy()\n",
        "print(arr_copy)"
      ],
      "metadata": {
        "colab": {
          "base_uri": "https://localhost:8080/"
        },
        "id": "RS-GFycQoIcA",
        "outputId": "35ec6d47-b47f-4903-b91c-d09924498108"
      },
      "execution_count": 39,
      "outputs": [
        {
          "output_type": "stream",
          "name": "stdout",
          "text": [
            "[1, 2, 3]\n"
          ]
        }
      ]
    },
    {
      "cell_type": "markdown",
      "source": [
        "### **Iterators**"
      ],
      "metadata": {
        "id": "1a0RGBWgejpy"
      }
    },
    {
      "cell_type": "code",
      "source": [
        "my_tuple = (1, 2, 3, 4)\n",
        "my_iter = iter(my_tuple)\n",
        "print(next(my_iter))\n",
        "print(next(my_iter))"
      ],
      "metadata": {
        "colab": {
          "base_uri": "https://localhost:8080/"
        },
        "id": "WlDfu4eCeoFj",
        "outputId": "20865cef-841f-4de0-87ee-3b9627c0b6fa"
      },
      "execution_count": 7,
      "outputs": [
        {
          "output_type": "stream",
          "name": "stdout",
          "text": [
            "1\n",
            "2\n"
          ]
        }
      ]
    },
    {
      "cell_type": "markdown",
      "source": [
        "### **Date Module**"
      ],
      "metadata": {
        "id": "U_nb785Yex1a"
      }
    },
    {
      "cell_type": "code",
      "source": [
        "import datetime\n",
        "date_now = datetime.datetime.now()\n",
        "print(\"Current Date and Time:\", date_now)"
      ],
      "metadata": {
        "colab": {
          "base_uri": "https://localhost:8080/"
        },
        "id": "3Vqz-dJde0Gp",
        "outputId": "b89d1820-8cc0-4272-a49c-874d444c7ce1"
      },
      "execution_count": 8,
      "outputs": [
        {
          "output_type": "stream",
          "name": "stdout",
          "text": [
            "Current Date and Time: 2025-02-25 14:20:53.551605\n"
          ]
        }
      ]
    },
    {
      "cell_type": "markdown",
      "source": [
        "### **Math Module**"
      ],
      "metadata": {
        "id": "u0ZSH842e57x"
      }
    },
    {
      "cell_type": "code",
      "source": [
        "import math\n",
        "print(\"Square root of 16:\", math.sqrt(16))\n",
        "print(\"Factorial of 5:\", math.factorial(5))"
      ],
      "metadata": {
        "colab": {
          "base_uri": "https://localhost:8080/"
        },
        "id": "X8DOSayte9ZB",
        "outputId": "b61746c2-5a91-4560-be91-980aff03743c"
      },
      "execution_count": 10,
      "outputs": [
        {
          "output_type": "stream",
          "name": "stdout",
          "text": [
            "Square root of 16: 4.0\n",
            "Factorial of 5: 120\n"
          ]
        }
      ]
    },
    {
      "cell_type": "markdown",
      "source": [
        "### **JSON Module**"
      ],
      "metadata": {
        "id": "IR1kDyzdfJCR"
      }
    },
    {
      "cell_type": "code",
      "source": [
        "import json\n",
        "data = '{\"name\": \"John\", \"age\": 30, \"city\": \"New York\"}'\n",
        "parsed_data = json.loads(data)\n",
        "print(\"JSON Data:\", parsed_data[\"name\"])"
      ],
      "metadata": {
        "colab": {
          "base_uri": "https://localhost:8080/"
        },
        "id": "HsHFUmaTfI0J",
        "outputId": "411f9b50-57de-4e22-9ac9-207c9c3e4401"
      },
      "execution_count": 12,
      "outputs": [
        {
          "output_type": "stream",
          "name": "stdout",
          "text": [
            "JSON Data: John\n"
          ]
        }
      ]
    },
    {
      "cell_type": "markdown",
      "source": [
        "### **Modules in Python**"
      ],
      "metadata": {
        "id": "xDInOvqXfR_K"
      }
    },
    {
      "cell_type": "code",
      "source": [
        "import random\n",
        "print(\"Random number between 1 and 10:\", random.randint(1, 10))"
      ],
      "metadata": {
        "colab": {
          "base_uri": "https://localhost:8080/"
        },
        "id": "mewtPu5QfRpp",
        "outputId": "ea1a80e9-bba5-444f-d7e8-689679024a0d"
      },
      "execution_count": 13,
      "outputs": [
        {
          "output_type": "stream",
          "name": "stdout",
          "text": [
            "Random number between 1 and 10: 5\n"
          ]
        }
      ]
    },
    {
      "cell_type": "markdown",
      "source": [
        "### **Linear Regression**"
      ],
      "metadata": {
        "id": "VbeHK-Msfckg"
      }
    },
    {
      "cell_type": "code",
      "source": [
        "# Sample data\n",
        "x = [1, 2, 3, 4, 5]\n",
        "y = [2, 4, 6, 8, 10]\n",
        "\n",
        "# Calculate mean of x and y\n",
        "N = len(x)\n",
        "sum_x = sum(x)\n",
        "sum_y = sum(y)\n",
        "sum_xy = sum(xi * yi for xi, yi in zip(x, y))\n",
        "sum_x2 = sum(xi ** 2 for xi in x)\n",
        "\n",
        "# Compute slope (m) and intercept (b)\n",
        "m = (N * sum_xy - sum_x * sum_y) / (N * sum_x2 - sum_x ** 2)\n",
        "b = (sum_y - m * sum_x) / N\n",
        "\n",
        "# Prediction function\n",
        "def predict(x_value):\n",
        "    return m * x_value + b\n",
        "\n",
        "# Predict for x = 6\n",
        "prediction = predict(6)\n",
        "print(\"Predicted value for input 6:\", prediction)\n"
      ],
      "metadata": {
        "colab": {
          "base_uri": "https://localhost:8080/"
        },
        "id": "nWebuEDOfdGg",
        "outputId": "57366891-c2ba-4f62-d4a8-13ab84c1b6b3"
      },
      "execution_count": 28,
      "outputs": [
        {
          "output_type": "stream",
          "name": "stdout",
          "text": [
            "Predicted value for input 6: 12.0\n"
          ]
        }
      ]
    },
    {
      "cell_type": "markdown",
      "source": [
        "### **Lambda Functions**"
      ],
      "metadata": {
        "id": "hqYgxS3afzFY"
      }
    },
    {
      "cell_type": "code",
      "source": [
        "square = lambda x: x * x\n",
        "print(\"Square of 5:\", square(5))"
      ],
      "metadata": {
        "colab": {
          "base_uri": "https://localhost:8080/"
        },
        "id": "IbrVhYf4f2SB",
        "outputId": "160a8452-45a7-4803-87e8-cff8f2d6dbcf"
      },
      "execution_count": 15,
      "outputs": [
        {
          "output_type": "stream",
          "name": "stdout",
          "text": [
            "Square of 5: 25\n"
          ]
        }
      ]
    },
    {
      "cell_type": "markdown",
      "source": [
        "### **Try-Except (Exception Handling)**"
      ],
      "metadata": {
        "id": "O0aHlow5f5dv"
      }
    },
    {
      "cell_type": "code",
      "source": [
        "try:\n",
        "    value = int(input(\"Enter a number: \"))\n",
        "    print(\"You entered:\", value)\n",
        "except ValueError:\n",
        "    print(\"Invalid input! Please enter a number.\")"
      ],
      "metadata": {
        "colab": {
          "base_uri": "https://localhost:8080/"
        },
        "id": "O2yPxGG8f5DI",
        "outputId": "2a30f79c-b32a-425f-f8fd-938f4ce5d524"
      },
      "execution_count": 17,
      "outputs": [
        {
          "output_type": "stream",
          "name": "stdout",
          "text": [
            "Enter a number: 877\n",
            "You entered: 877\n"
          ]
        }
      ]
    },
    {
      "cell_type": "markdown",
      "source": [
        "# **OOP Concepts**"
      ],
      "metadata": {
        "id": "m_ABuAVNgRUv"
      }
    },
    {
      "cell_type": "markdown",
      "source": [
        "### **Defining a Class**"
      ],
      "metadata": {
        "id": "nFBA6XLNgWDO"
      }
    },
    {
      "cell_type": "code",
      "source": [
        "class Car:\n",
        "    def __init__(self, brand, model):\n",
        "        self.brand = brand\n",
        "        self.model = model\n",
        "\n",
        "    def show_details(self):\n",
        "        print(f\"Car Brand: {self.brand}, Model: {self.model}\")\n",
        "\n",
        "## Creating an Object\n",
        "car1 = Car(\"Toyota\", \"Corolla\")\n",
        "car1.show_details()"
      ],
      "metadata": {
        "colab": {
          "base_uri": "https://localhost:8080/"
        },
        "id": "gSSHy4nMgZhW",
        "outputId": "4c43aa1d-391d-404c-c770-cad7a7ef6e57"
      },
      "execution_count": 18,
      "outputs": [
        {
          "output_type": "stream",
          "name": "stdout",
          "text": [
            "Car Brand: Toyota, Model: Corolla\n"
          ]
        }
      ]
    },
    {
      "cell_type": "markdown",
      "source": [
        "### **Inheritance**"
      ],
      "metadata": {
        "id": "whxbWXwigfg-"
      }
    },
    {
      "cell_type": "code",
      "source": [
        "class ElectricCar(Car):\n",
        "    def __init__(self, brand, model, battery_capacity):\n",
        "        super().__init__(brand, model)\n",
        "        self.battery_capacity = battery_capacity\n",
        "\n",
        "    def show_details(self):\n",
        "        print(f\"Electric Car Brand: {self.brand}, Model: {self.model}, Battery: {self.battery_capacity} kWh\")\n",
        "\n",
        "## Creating an Object of ElectricCar\n",
        "ecar = ElectricCar(\"Tesla\", \"Model S\", 100)\n",
        "ecar.show_details()"
      ],
      "metadata": {
        "colab": {
          "base_uri": "https://localhost:8080/"
        },
        "id": "u0d5NgppgiaW",
        "outputId": "20b49760-e68a-4a0e-c2f4-361c6c226d7f"
      },
      "execution_count": 19,
      "outputs": [
        {
          "output_type": "stream",
          "name": "stdout",
          "text": [
            "Electric Car Brand: Tesla, Model: Model S, Battery: 100 kWh\n"
          ]
        }
      ]
    },
    {
      "cell_type": "markdown",
      "source": [
        "### **Encapsulation**"
      ],
      "metadata": {
        "id": "iS4b6Imogro2"
      }
    },
    {
      "cell_type": "code",
      "source": [
        "class BankAccount:\n",
        "    def __init__(self, balance):\n",
        "        self.__balance = balance  # Private variable\n",
        "\n",
        "    def deposit(self, amount):\n",
        "        self.__balance += amount\n",
        "        print(f\"New Balance: {self.__balance}\")\n",
        "\n",
        "    def get_balance(self):\n",
        "        return self.__balance\n",
        "\n",
        "account = BankAccount(1000)\n",
        "account.deposit(500)\n",
        "print(\"Account Balance:\", account.get_balance())  # Access via method, not directly"
      ],
      "metadata": {
        "colab": {
          "base_uri": "https://localhost:8080/"
        },
        "id": "TQ0J6UmYgs3u",
        "outputId": "6bb33cc7-a91f-4b2c-ca7b-aa62a18ebde2"
      },
      "execution_count": 20,
      "outputs": [
        {
          "output_type": "stream",
          "name": "stdout",
          "text": [
            "New Balance: 1500\n",
            "Account Balance: 1500\n"
          ]
        }
      ]
    },
    {
      "cell_type": "markdown",
      "source": [
        "### **Polymorphism**"
      ],
      "metadata": {
        "id": "z7hD5ZL6gxJe"
      }
    },
    {
      "cell_type": "code",
      "source": [
        "class Animal:\n",
        "    def speak(self):\n",
        "        return \"Animal speaks\"\n",
        "\n",
        "class Dog(Animal):\n",
        "    def speak(self):\n",
        "        return \"Woof!\"\n",
        "\n",
        "class Cat(Animal):\n",
        "    def speak(self):\n",
        "        return \"Meow!\"\n",
        "\n",
        "animals = [Dog(), Cat(), Animal()]\n",
        "for animal in animals:\n",
        "    print(animal.speak())"
      ],
      "metadata": {
        "colab": {
          "base_uri": "https://localhost:8080/"
        },
        "id": "RknabrMpg0Ze",
        "outputId": "ad4630df-ef40-40e9-8361-4ce7ca25fb50"
      },
      "execution_count": 21,
      "outputs": [
        {
          "output_type": "stream",
          "name": "stdout",
          "text": [
            "Woof!\n",
            "Meow!\n",
            "Animal speaks\n"
          ]
        }
      ]
    },
    {
      "cell_type": "markdown",
      "source": [
        "### **Abstraction**"
      ],
      "metadata": {
        "id": "5fFFk3wMg3fG"
      }
    },
    {
      "cell_type": "code",
      "source": [
        "from abc import ABC, abstractmethod\n",
        "\n",
        "class Shape(ABC):\n",
        "    @abstractmethod\n",
        "    def area(self):\n",
        "        pass\n",
        "\n",
        "class Rectangle(Shape):\n",
        "    def __init__(self, width, height):\n",
        "        self.width = width\n",
        "        self.height = height\n",
        "\n",
        "    def area(self):\n",
        "        return self.width * self.height\n",
        "\n",
        "rectangle = Rectangle(10, 5)\n",
        "print(\"Rectangle Area:\", rectangle.area())"
      ],
      "metadata": {
        "colab": {
          "base_uri": "https://localhost:8080/"
        },
        "id": "DygPb0Ulg6tu",
        "outputId": "2a4455ae-8228-4a4e-9a98-b33bdfdb68bf"
      },
      "execution_count": 22,
      "outputs": [
        {
          "output_type": "stream",
          "name": "stdout",
          "text": [
            "Rectangle Area: 50\n"
          ]
        }
      ]
    }
  ]
}