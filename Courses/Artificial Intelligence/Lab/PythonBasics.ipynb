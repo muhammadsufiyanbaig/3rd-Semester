{
  "cells": [
    {
      "cell_type": "markdown",
      "metadata": {
        "id": "eEnMm6yjcYZx"
      },
      "source": [
        "# ***Python Basics***\n",
        "\n"
      ]
    },
    {
      "cell_type": "markdown",
      "metadata": {
        "id": "lASMlVd7cwJO"
      },
      "source": [
        "### **Print Statement**\n"
      ]
    },
    {
      "cell_type": "code",
      "execution_count": 1,
      "metadata": {
        "colab": {
          "base_uri": "https://localhost:8080/"
        },
        "id": "0KxzfUiKctae",
        "outputId": "c76e36fe-e446-4587-9c91-7ae6e9100643"
      },
      "outputs": [
        {
          "name": "stdout",
          "output_type": "stream",
          "text": [
            "Hello, World!\n"
          ]
        }
      ],
      "source": [
        "print(\"Hello, World!\")"
      ]
    },
    {
      "cell_type": "markdown",
      "metadata": {
        "id": "LmmoxNfwc9gv"
      },
      "source": [
        "### **Input Function**"
      ]
    },
    {
      "cell_type": "code",
      "execution_count": 2,
      "metadata": {
        "colab": {
          "base_uri": "https://localhost:8080/"
        },
        "id": "BxuvtsLbdKu9",
        "outputId": "1c12c81b-41fd-4138-b6a8-afb5dd5b041e"
      },
      "outputs": [
        {
          "name": "stdout",
          "output_type": "stream",
          "text": [
            "Enter your name: Sufiyan\n",
            "Hello, Sufiyan!\n"
          ]
        }
      ],
      "source": [
        "name = input(\"Enter your name: \")\n",
        "print(\"Hello, \" + name + \"!\")"
      ]
    },
    {
      "cell_type": "markdown",
      "metadata": {
        "id": "Ad7byuyDdOJd"
      },
      "source": [
        "### **Data Types & type() Function**\n",
        "\n",
        "***Python supports multiple data types:***"
      ]
    },
    {
      "cell_type": "code",
      "execution_count": 3,
      "metadata": {
        "id": "COVICTZzdl-d"
      },
      "outputs": [],
      "source": [
        "integer_var = 10   # Integer\n",
        "float_var = 10.5   # Float\n",
        "string_var = \"Python\" # String\n",
        "boolean_var = True # Boolean\n",
        "list_var = [1, 2, 3, 4] # List\n",
        "tuple_var = (1, 2, 3, 4) # Tuple\n",
        "set_var = {1, 2, 3, 4} # Set\n",
        "dict_var = {\"name\": \"John\", \"age\": 25} # Dictionary"
      ]
    },
    {
      "cell_type": "markdown",
      "metadata": {
        "id": "_J5d8qhKhnWd"
      },
      "source": [
        "### **for Loop**"
      ]
    },
    {
      "cell_type": "code",
      "execution_count": 23,
      "metadata": {
        "colab": {
          "base_uri": "https://localhost:8080/"
        },
        "id": "kKJOlwNlhq5_",
        "outputId": "d7ff332e-6c74-43d9-afcc-c600b3980a03"
      },
      "outputs": [
        {
          "name": "stdout",
          "output_type": "stream",
          "text": [
            "0\n",
            "1\n",
            "2\n",
            "3\n",
            "4\n"
          ]
        }
      ],
      "source": [
        "for i in range(5):  # Iterates from 0 to 4\n",
        "    print(i)"
      ]
    },
    {
      "cell_type": "markdown",
      "metadata": {
        "id": "FPXUM9_MhtzM"
      },
      "source": [
        "### **while Loop**"
      ]
    },
    {
      "cell_type": "code",
      "execution_count": 24,
      "metadata": {
        "colab": {
          "base_uri": "https://localhost:8080/"
        },
        "id": "Yfv4a8oChwvF",
        "outputId": "7350c4e1-1a02-4ff0-8366-fb31eba14b74"
      },
      "outputs": [
        {
          "name": "stdout",
          "output_type": "stream",
          "text": [
            "0\n",
            "1\n",
            "2\n",
            "3\n",
            "4\n"
          ]
        }
      ],
      "source": [
        "x = 0\n",
        "while x < 5:\n",
        "    print(x)\n",
        "    x += 1"
      ]
    },
    {
      "cell_type": "markdown",
      "metadata": {
        "id": "7KSRS-xRh0DM"
      },
      "source": [
        "### **Nested Loops**"
      ]
    },
    {
      "cell_type": "code",
      "execution_count": 25,
      "metadata": {
        "colab": {
          "base_uri": "https://localhost:8080/"
        },
        "id": "pedyV_Q6h9Ak",
        "outputId": "01114ce6-526b-40ea-95b7-c7a6211ad3a9"
      },
      "outputs": [
        {
          "name": "stdout",
          "output_type": "stream",
          "text": [
            "i=0, j=0\n",
            "i=0, j=1\n",
            "i=1, j=0\n",
            "i=1, j=1\n",
            "i=2, j=0\n",
            "i=2, j=1\n"
          ]
        }
      ],
      "source": [
        "for i in range(3):\n",
        "    for j in range(2):\n",
        "        print(f\"i={i}, j={j}\")"
      ]
    },
    {
      "cell_type": "markdown",
      "metadata": {
        "id": "AIXc5btaiBCs"
      },
      "source": [
        "### **Loop Control Statements**\n",
        "\n",
        "> These modify loop behavior:\n",
        "\n",
        "* `break:` Exits the loop entirely.\n",
        "* `continue:` Skips the current iteration.\n",
        "* `pass:` Does nothing (used as a placeholder)."
      ]
    },
    {
      "cell_type": "code",
      "execution_count": 26,
      "metadata": {
        "colab": {
          "base_uri": "https://localhost:8080/"
        },
        "id": "ZuGoWbetiFDE",
        "outputId": "fa8cf167-06e3-487a-e6b0-93c28ce251ed"
      },
      "outputs": [
        {
          "name": "stdout",
          "output_type": "stream",
          "text": [
            "0\n",
            "1\n",
            "2\n"
          ]
        }
      ],
      "source": [
        "for i in range(5):\n",
        "    if i == 3:\n",
        "        break  # Stops the loop when i is 3\n",
        "    print(i)"
      ]
    },
    {
      "cell_type": "markdown",
      "metadata": {
        "id": "e5pqejiHiuJD"
      },
      "source": [
        "### **else with Loops**\n",
        "Python allows an `else` block with `for` and `while` loops, which runs when the loop finishes normally (i.e., not exited via `break`)."
      ]
    },
    {
      "cell_type": "code",
      "execution_count": 27,
      "metadata": {
        "colab": {
          "base_uri": "https://localhost:8080/"
        },
        "id": "mJTODoRljAuD",
        "outputId": "8c4783f9-c30c-4559-d6d7-20d9f6892d4c"
      },
      "outputs": [
        {
          "name": "stdout",
          "output_type": "stream",
          "text": [
            "0\n",
            "1\n",
            "2\n",
            "Loop completed\n"
          ]
        }
      ],
      "source": [
        "for i in range(3):\n",
        "    print(i)\n",
        "else:\n",
        "    print(\"Loop completed\")"
      ]
    },
    {
      "cell_type": "markdown",
      "metadata": {
        "id": "K_4rh3-CdsFM"
      },
      "source": [
        "### **Difference Between List, Tuple, and Set**\n",
        "\n",
        "**List**: Ordered, mutable, allows duplicate elements"
      ]
    },
    {
      "cell_type": "code",
      "execution_count": 4,
      "metadata": {
        "colab": {
          "base_uri": "https://localhost:8080/"
        },
        "id": "OK1D6g5dd1FM",
        "outputId": "431429ca-cab9-4c89-8711-6d6d85b73bdc"
      },
      "outputs": [
        {
          "name": "stdout",
          "output_type": "stream",
          "text": [
            "List: [1, 2, 3, 4, 1]\n"
          ]
        }
      ],
      "source": [
        "list_example = [1, 2, 3, 4, 1]\n",
        "print(\"List:\", list_example)"
      ]
    },
    {
      "cell_type": "markdown",
      "metadata": {
        "id": "S3MlJjjUeMm8"
      },
      "source": [
        "**Tuple**: Ordered, immutable, allows duplicate elements"
      ]
    },
    {
      "cell_type": "code",
      "execution_count": 5,
      "metadata": {
        "colab": {
          "base_uri": "https://localhost:8080/"
        },
        "id": "Ecd4gtNNeRLr",
        "outputId": "756b3f6a-2595-4aca-9063-95885187197e"
      },
      "outputs": [
        {
          "name": "stdout",
          "output_type": "stream",
          "text": [
            "Tuple: (1, 2, 3, 4, 1)\n"
          ]
        }
      ],
      "source": [
        "tuple_example = (1, 2, 3, 4, 1)\n",
        "print(\"Tuple:\", tuple_example)"
      ]
    },
    {
      "cell_type": "markdown",
      "metadata": {
        "id": "lrZoWuBceY3T"
      },
      "source": [
        "**Set**: Unordered, mutable, does not allow duplicate elements"
      ]
    },
    {
      "cell_type": "code",
      "execution_count": 6,
      "metadata": {
        "colab": {
          "base_uri": "https://localhost:8080/"
        },
        "id": "VRc-zjVpeg1C",
        "outputId": "9b927631-ae0c-4803-8045-ce9499542b73"
      },
      "outputs": [
        {
          "name": "stdout",
          "output_type": "stream",
          "text": [
            "Set: {1, 2, 3, 4}\n"
          ]
        }
      ],
      "source": [
        "set_example = {1, 2, 3, 4, 1}\n",
        "print(\"Set:\", set_example)  # Duplicate 1 is removed"
      ]
    },
    {
      "cell_type": "markdown",
      "metadata": {
        "id": "sTUL0QCAlWRF"
      },
      "source": [
        "## **List Method**"
      ]
    },
    {
      "cell_type": "markdown",
      "metadata": {
        "id": "ox4XL_R1lbr1"
      },
      "source": [
        "### **`append()` – Add an element to the end**"
      ]
    },
    {
      "cell_type": "code",
      "execution_count": 29,
      "metadata": {
        "colab": {
          "base_uri": "https://localhost:8080/"
        },
        "id": "5MCe4sHQlUeH",
        "outputId": "64444696-7aa8-4a64-a3ad-c397331c0926"
      },
      "outputs": [
        {
          "name": "stdout",
          "output_type": "stream",
          "text": [
            "[1, 2, 3, 4]\n"
          ]
        }
      ],
      "source": [
        "arr = [1, 2, 3]\n",
        "arr.append(4)\n",
        "print(arr)"
      ]
    },
    {
      "cell_type": "markdown",
      "metadata": {
        "id": "Py1xwptLl0QE"
      },
      "source": [
        "### **`extend()` – Add multiple elements**"
      ]
    },
    {
      "cell_type": "code",
      "execution_count": 30,
      "metadata": {
        "colab": {
          "base_uri": "https://localhost:8080/"
        },
        "id": "4jCwzsxsl5Yc",
        "outputId": "bb7aded1-a0cb-4edb-e475-ac47b9d2b6fd"
      },
      "outputs": [
        {
          "name": "stdout",
          "output_type": "stream",
          "text": [
            "[1, 2, 3, 4, 5, 6]\n"
          ]
        }
      ],
      "source": [
        "arr = [1, 2, 3]\n",
        "arr.extend([4, 5, 6])\n",
        "print(arr)"
      ]
    },
    {
      "cell_type": "markdown",
      "metadata": {
        "id": "tsLiP-4HmFXN"
      },
      "source": [
        "### **`insert()` – Insert at a specific**"
      ]
    },
    {
      "cell_type": "code",
      "execution_count": 31,
      "metadata": {
        "colab": {
          "base_uri": "https://localhost:8080/"
        },
        "id": "uH0UmmSSmF1d",
        "outputId": "d8828475-aa7b-427e-9ec3-465c29ab4372"
      },
      "outputs": [
        {
          "name": "stdout",
          "output_type": "stream",
          "text": [
            "[1, 2, 3, 4]\n"
          ]
        }
      ],
      "source": [
        "arr = [1, 2, 4]\n",
        "arr.insert(2, 3)  # Insert 3 at index 2\n",
        "print(arr)"
      ]
    },
    {
      "cell_type": "markdown",
      "metadata": {
        "id": "3nE4LWxhmZE8"
      },
      "source": [
        "### **`pop()` – Remove an element (default last)**"
      ]
    },
    {
      "cell_type": "code",
      "execution_count": 32,
      "metadata": {
        "colab": {
          "base_uri": "https://localhost:8080/"
        },
        "id": "ON25eHvYme9L",
        "outputId": "05d696a9-915a-451e-8820-e35c2d192d77"
      },
      "outputs": [
        {
          "name": "stdout",
          "output_type": "stream",
          "text": [
            "[1, 2, 4]\n"
          ]
        }
      ],
      "source": [
        "arr = [1, 2, 3, 4]\n",
        "arr.pop(2)  # Removes element at index 2\n",
        "print(arr)"
      ]
    },
    {
      "cell_type": "markdown",
      "metadata": {
        "id": "nDFUbbGfmjCz"
      },
      "source": [
        "### **`remove()` – Remove the first occurrence of an element**"
      ]
    },
    {
      "cell_type": "code",
      "execution_count": 33,
      "metadata": {
        "colab": {
          "base_uri": "https://localhost:8080/"
        },
        "id": "8pQorCDAmp7U",
        "outputId": "f9f68c4e-e437-4d35-96d5-9e240f83048b"
      },
      "outputs": [
        {
          "name": "stdout",
          "output_type": "stream",
          "text": [
            "[1, 3, 2]\n"
          ]
        }
      ],
      "source": [
        "arr = [1, 2, 3, 2]\n",
        "arr.remove(2)\n",
        "print(arr)"
      ]
    },
    {
      "cell_type": "markdown",
      "metadata": {
        "id": "txRcaVnbmwnb"
      },
      "source": [
        "### **`index()` – Get index of an element**"
      ]
    },
    {
      "cell_type": "code",
      "execution_count": 34,
      "metadata": {
        "colab": {
          "base_uri": "https://localhost:8080/"
        },
        "id": "eYD8zcvOnBTq",
        "outputId": "8eff1d0e-9089-4b16-e339-3281c608dd86"
      },
      "outputs": [
        {
          "name": "stdout",
          "output_type": "stream",
          "text": [
            "2\n"
          ]
        }
      ],
      "source": [
        "arr = [10, 20, 30, 40]\n",
        "print(arr.index(30))"
      ]
    },
    {
      "cell_type": "markdown",
      "metadata": {
        "id": "0FblQUBsnG3r"
      },
      "source": [
        "### **`count()` – Count occurrences of an element**"
      ]
    },
    {
      "cell_type": "code",
      "execution_count": 36,
      "metadata": {
        "colab": {
          "base_uri": "https://localhost:8080/"
        },
        "id": "LoatBkGlnQiC",
        "outputId": "4ea06dcc-e4f8-4cf7-e3a8-096194c3069a"
      },
      "outputs": [
        {
          "name": "stdout",
          "output_type": "stream",
          "text": [
            "3\n"
          ]
        }
      ],
      "source": [
        "arr = [1, 2, 3, 2, 2, 4]\n",
        "print(arr.count(2))"
      ]
    },
    {
      "cell_type": "markdown",
      "metadata": {
        "id": "j7Av186pnaux"
      },
      "source": [
        "### **`reverse()` – Reverse the array**"
      ]
    },
    {
      "cell_type": "code",
      "execution_count": 37,
      "metadata": {
        "colab": {
          "base_uri": "https://localhost:8080/"
        },
        "id": "WX3BW52mnfw5",
        "outputId": "aa505ed6-fc36-4261-c840-a81b9d562cb3"
      },
      "outputs": [
        {
          "name": "stdout",
          "output_type": "stream",
          "text": [
            "[4, 3, 2, 1]\n"
          ]
        }
      ],
      "source": [
        "arr = [1, 2, 3, 4]\n",
        "arr.reverse()\n",
        "print(arr)"
      ]
    },
    {
      "cell_type": "markdown",
      "metadata": {
        "id": "hCdEQT3inoX5"
      },
      "source": [
        "### **`sort()` – Sort the array**"
      ]
    },
    {
      "cell_type": "code",
      "execution_count": 38,
      "metadata": {
        "colab": {
          "base_uri": "https://localhost:8080/"
        },
        "id": "Me6sVp4Lnoxx",
        "outputId": "17b1af62-96b7-4782-deeb-a9b8c09776f5"
      },
      "outputs": [
        {
          "name": "stdout",
          "output_type": "stream",
          "text": [
            "[1, 2, 3, 4]\n"
          ]
        }
      ],
      "source": [
        "arr = [3, 1, 4, 2]\n",
        "arr.sort()\n",
        "print(arr)"
      ]
    },
    {
      "cell_type": "markdown",
      "metadata": {
        "id": "zuBBSDswoFWa"
      },
      "source": [
        "### **`copy()` – Copy an array**"
      ]
    },
    {
      "cell_type": "code",
      "execution_count": 39,
      "metadata": {
        "colab": {
          "base_uri": "https://localhost:8080/"
        },
        "id": "RS-GFycQoIcA",
        "outputId": "35ec6d47-b47f-4903-b91c-d09924498108"
      },
      "outputs": [
        {
          "name": "stdout",
          "output_type": "stream",
          "text": [
            "[1, 2, 3]\n"
          ]
        }
      ],
      "source": [
        "arr = [1, 2, 3]\n",
        "arr_copy = arr.copy()\n",
        "print(arr_copy)"
      ]
    },
    {
      "cell_type": "markdown",
      "metadata": {
        "id": "1a0RGBWgejpy"
      },
      "source": [
        "### **Iterators**"
      ]
    },
    {
      "cell_type": "code",
      "execution_count": 7,
      "metadata": {
        "colab": {
          "base_uri": "https://localhost:8080/"
        },
        "id": "WlDfu4eCeoFj",
        "outputId": "20865cef-841f-4de0-87ee-3b9627c0b6fa"
      },
      "outputs": [
        {
          "name": "stdout",
          "output_type": "stream",
          "text": [
            "1\n",
            "2\n"
          ]
        }
      ],
      "source": [
        "my_tuple = (1, 2, 3, 4)\n",
        "my_iter = iter(my_tuple)\n",
        "print(next(my_iter))\n",
        "print(next(my_iter))"
      ]
    },
    {
      "cell_type": "markdown",
      "metadata": {
        "id": "U_nb785Yex1a"
      },
      "source": [
        "### **Date Module**"
      ]
    },
    {
      "cell_type": "code",
      "execution_count": 8,
      "metadata": {
        "colab": {
          "base_uri": "https://localhost:8080/"
        },
        "id": "3Vqz-dJde0Gp",
        "outputId": "b89d1820-8cc0-4272-a49c-874d444c7ce1"
      },
      "outputs": [
        {
          "name": "stdout",
          "output_type": "stream",
          "text": [
            "Current Date and Time: 2025-02-25 14:20:53.551605\n"
          ]
        }
      ],
      "source": [
        "import datetime\n",
        "date_now = datetime.datetime.now()\n",
        "print(\"Current Date and Time:\", date_now)"
      ]
    },
    {
      "cell_type": "markdown",
      "metadata": {
        "id": "u0ZSH842e57x"
      },
      "source": [
        "### **Math Module**"
      ]
    },
    {
      "cell_type": "code",
      "execution_count": 10,
      "metadata": {
        "colab": {
          "base_uri": "https://localhost:8080/"
        },
        "id": "X8DOSayte9ZB",
        "outputId": "b61746c2-5a91-4560-be91-980aff03743c"
      },
      "outputs": [
        {
          "name": "stdout",
          "output_type": "stream",
          "text": [
            "Square root of 16: 4.0\n",
            "Factorial of 5: 120\n"
          ]
        }
      ],
      "source": [
        "import math\n",
        "print(\"Square root of 16:\", math.sqrt(16))\n",
        "print(\"Factorial of 5:\", math.factorial(5))"
      ]
    },
    {
      "cell_type": "markdown",
      "metadata": {
        "id": "IR1kDyzdfJCR"
      },
      "source": [
        "### **JSON Module**"
      ]
    },
    {
      "cell_type": "code",
      "execution_count": 12,
      "metadata": {
        "colab": {
          "base_uri": "https://localhost:8080/"
        },
        "id": "HsHFUmaTfI0J",
        "outputId": "411f9b50-57de-4e22-9ac9-207c9c3e4401"
      },
      "outputs": [
        {
          "name": "stdout",
          "output_type": "stream",
          "text": [
            "JSON Data: John\n"
          ]
        }
      ],
      "source": [
        "import json\n",
        "data = '{\"name\": \"John\", \"age\": 30, \"city\": \"New York\"}'\n",
        "parsed_data = json.loads(data)\n",
        "print(\"JSON Data:\", parsed_data[\"name\"])"
      ]
    },
    {
      "cell_type": "markdown",
      "metadata": {
        "id": "xDInOvqXfR_K"
      },
      "source": [
        "### **Modules in Python**"
      ]
    },
    {
      "cell_type": "code",
      "execution_count": 13,
      "metadata": {
        "colab": {
          "base_uri": "https://localhost:8080/"
        },
        "id": "mewtPu5QfRpp",
        "outputId": "ea1a80e9-bba5-444f-d7e8-689679024a0d"
      },
      "outputs": [
        {
          "name": "stdout",
          "output_type": "stream",
          "text": [
            "Random number between 1 and 10: 5\n"
          ]
        }
      ],
      "source": [
        "import random\n",
        "print(\"Random number between 1 and 10:\", random.randint(1, 10))"
      ]
    },
    {
      "cell_type": "markdown",
      "metadata": {
        "id": "VbeHK-Msfckg"
      },
      "source": [
        "### **Linear Regression**"
      ]
    },
    {
      "cell_type": "code",
      "execution_count": 28,
      "metadata": {
        "colab": {
          "base_uri": "https://localhost:8080/"
        },
        "id": "nWebuEDOfdGg",
        "outputId": "57366891-c2ba-4f62-d4a8-13ab84c1b6b3"
      },
      "outputs": [
        {
          "name": "stdout",
          "output_type": "stream",
          "text": [
            "Predicted value for input 6: 12.0\n"
          ]
        }
      ],
      "source": [
        "# Sample data\n",
        "x = [1, 2, 3, 4, 5]\n",
        "y = [2, 4, 6, 8, 10]\n",
        "\n",
        "# Calculate mean of x and y\n",
        "N = len(x)\n",
        "sum_x = sum(x)\n",
        "sum_y = sum(y)\n",
        "sum_xy = sum(xi * yi for xi, yi in zip(x, y))\n",
        "sum_x2 = sum(xi ** 2 for xi in x)\n",
        "\n",
        "# Compute slope (m) and intercept (b)\n",
        "m = (N * sum_xy - sum_x * sum_y) / (N * sum_x2 - sum_x ** 2)\n",
        "b = (sum_y - m * sum_x) / N\n",
        "\n",
        "# Prediction function\n",
        "def predict(x_value):\n",
        "    return m * x_value + b\n",
        "\n",
        "# Predict for x = 6\n",
        "prediction = predict(6)\n",
        "print(\"Predicted value for input 6:\", prediction)\n"
      ]
    },
    {
      "cell_type": "markdown",
      "metadata": {
        "id": "hqYgxS3afzFY"
      },
      "source": [
        "### **Lambda Functions**"
      ]
    },
    {
      "cell_type": "code",
      "execution_count": 15,
      "metadata": {
        "colab": {
          "base_uri": "https://localhost:8080/"
        },
        "id": "IbrVhYf4f2SB",
        "outputId": "160a8452-45a7-4803-87e8-cff8f2d6dbcf"
      },
      "outputs": [
        {
          "name": "stdout",
          "output_type": "stream",
          "text": [
            "Square of 5: 25\n"
          ]
        }
      ],
      "source": [
        "square = lambda x: x * x\n",
        "print(\"Square of 5:\", square(5))"
      ]
    },
    {
      "cell_type": "markdown",
      "metadata": {
        "id": "O0aHlow5f5dv"
      },
      "source": [
        "### **Try-Except (Exception Handling)**"
      ]
    },
    {
      "cell_type": "code",
      "execution_count": 17,
      "metadata": {
        "colab": {
          "base_uri": "https://localhost:8080/"
        },
        "id": "O2yPxGG8f5DI",
        "outputId": "2a30f79c-b32a-425f-f8fd-938f4ce5d524"
      },
      "outputs": [
        {
          "name": "stdout",
          "output_type": "stream",
          "text": [
            "Enter a number: 877\n",
            "You entered: 877\n"
          ]
        }
      ],
      "source": [
        "try:\n",
        "    value = int(input(\"Enter a number: \"))\n",
        "    print(\"You entered:\", value)\n",
        "except ValueError:\n",
        "    print(\"Invalid input! Please enter a number.\")"
      ]
    },
    {
      "cell_type": "markdown",
      "metadata": {
        "id": "m_ABuAVNgRUv"
      },
      "source": [
        "# **OOP Concepts**"
      ]
    },
    {
      "cell_type": "markdown",
      "metadata": {
        "id": "nFBA6XLNgWDO"
      },
      "source": [
        "### **Defining a Class**"
      ]
    },
    {
      "cell_type": "code",
      "execution_count": 18,
      "metadata": {
        "colab": {
          "base_uri": "https://localhost:8080/"
        },
        "id": "gSSHy4nMgZhW",
        "outputId": "4c43aa1d-391d-404c-c770-cad7a7ef6e57"
      },
      "outputs": [
        {
          "name": "stdout",
          "output_type": "stream",
          "text": [
            "Car Brand: Toyota, Model: Corolla\n"
          ]
        }
      ],
      "source": [
        "class Car:\n",
        "    def __init__(self, brand, model):\n",
        "        self.brand = brand\n",
        "        self.model = model\n",
        "\n",
        "    def show_details(self):\n",
        "        print(f\"Car Brand: {self.brand}, Model: {self.model}\")\n",
        "\n",
        "## Creating an Object\n",
        "car1 = Car(\"Toyota\", \"Corolla\")\n",
        "car1.show_details()"
      ]
    },
    {
      "cell_type": "markdown",
      "metadata": {
        "id": "whxbWXwigfg-"
      },
      "source": [
        "### **Inheritance**"
      ]
    },
    {
      "cell_type": "code",
      "execution_count": 19,
      "metadata": {
        "colab": {
          "base_uri": "https://localhost:8080/"
        },
        "id": "u0d5NgppgiaW",
        "outputId": "20b49760-e68a-4a0e-c2f4-361c6c226d7f"
      },
      "outputs": [
        {
          "name": "stdout",
          "output_type": "stream",
          "text": [
            "Electric Car Brand: Tesla, Model: Model S, Battery: 100 kWh\n"
          ]
        }
      ],
      "source": [
        "class ElectricCar(Car):\n",
        "    def __init__(self, brand, model, battery_capacity):\n",
        "        super().__init__(brand, model)\n",
        "        self.battery_capacity = battery_capacity\n",
        "\n",
        "    def show_details(self):\n",
        "        print(f\"Electric Car Brand: {self.brand}, Model: {self.model}, Battery: {self.battery_capacity} kWh\")\n",
        "\n",
        "## Creating an Object of ElectricCar\n",
        "ecar = ElectricCar(\"Tesla\", \"Model S\", 100)\n",
        "ecar.show_details()"
      ]
    },
    {
      "cell_type": "markdown",
      "metadata": {
        "id": "iS4b6Imogro2"
      },
      "source": [
        "### **Encapsulation**"
      ]
    },
    {
      "cell_type": "code",
      "execution_count": 20,
      "metadata": {
        "colab": {
          "base_uri": "https://localhost:8080/"
        },
        "id": "TQ0J6UmYgs3u",
        "outputId": "6bb33cc7-a91f-4b2c-ca7b-aa62a18ebde2"
      },
      "outputs": [
        {
          "name": "stdout",
          "output_type": "stream",
          "text": [
            "New Balance: 1500\n",
            "Account Balance: 1500\n"
          ]
        }
      ],
      "source": [
        "class BankAccount:\n",
        "    def __init__(self, balance):\n",
        "        self.__balance = balance  # Private variable\n",
        "\n",
        "    def deposit(self, amount):\n",
        "        self.__balance += amount\n",
        "        print(f\"New Balance: {self.__balance}\")\n",
        "\n",
        "    def get_balance(self):\n",
        "        return self.__balance\n",
        "\n",
        "account = BankAccount(1000)\n",
        "account.deposit(500)\n",
        "print(\"Account Balance:\", account.get_balance())  # Access via method, not directly"
      ]
    },
    {
      "cell_type": "markdown",
      "metadata": {
        "id": "z7hD5ZL6gxJe"
      },
      "source": [
        "### **Polymorphism**"
      ]
    },
    {
      "cell_type": "code",
      "execution_count": 3,
      "metadata": {
        "colab": {
          "base_uri": "https://localhost:8080/"
        },
        "id": "RknabrMpg0Ze",
        "outputId": "ad4630df-ef40-40e9-8361-4ce7ca25fb50"
      },
      "outputs": [
        {
          "name": "stdout",
          "output_type": "stream",
          "text": [
            "Woof!\n",
            "Meow!\n",
            "Animal speaks\n"
          ]
        }
      ],
      "source": [
        "class Animal:\n",
        "    def speak(self):\n",
        "        return \"Animal speaks\"\n",
        "\n",
        "class Dog(Animal):\n",
        "    def speak(self):\n",
        "        return \"Woof!\"\n",
        "\n",
        "class Cat(Animal):\n",
        "    def speak(self):\n",
        "        return \"Meow!\"\n",
        "\n",
        "animals = [Dog(), Cat(), Animal()]\n",
        "for animal in animals:\n",
        "    print(animal.speak())"
      ]
    },
    {
      "cell_type": "markdown",
      "metadata": {
        "id": "5fFFk3wMg3fG"
      },
      "source": [
        "### **Abstraction**"
      ]
    },
    {
      "cell_type": "code",
      "execution_count": 2,
      "metadata": {
        "colab": {
          "base_uri": "https://localhost:8080/"
        },
        "id": "DygPb0Ulg6tu",
        "outputId": "2a4455ae-8228-4a4e-9a98-b33bdfdb68bf"
      },
      "outputs": [
        {
          "name": "stdout",
          "output_type": "stream",
          "text": [
            "Rectangle Area: 50\n"
          ]
        }
      ],
      "source": [
        "from abc import ABC, abstractmethod\n",
        "\n",
        "class Shape(ABC):\n",
        "    @abstractmethod\n",
        "    def area(self):\n",
        "        pass\n",
        "\n",
        "class Rectangle(Shape):\n",
        "    def __init__(self, width, height):\n",
        "        self.width = width\n",
        "        self.height = height\n",
        "\n",
        "    def area(self):\n",
        "        return self.width * self.height\n",
        "\n",
        "rectangle = Rectangle(10, 5)\n",
        "print(\"Rectangle Area:\", rectangle.area())"
      ]
    }
  ],
  "metadata": {
    "colab": {
      "provenance": [],
      "toc_visible": true
    },
    "kernelspec": {
      "display_name": "Python 3",
      "name": "python3"
    },
    "language_info": {
      "codemirror_mode": {
        "name": "ipython",
        "version": 3
      },
      "file_extension": ".py",
      "mimetype": "text/x-python",
      "name": "python",
      "nbconvert_exporter": "python",
      "pygments_lexer": "ipython3",
      "version": "3.13.2"
    }
  },
  "nbformat": 4,
  "nbformat_minor": 0
}
